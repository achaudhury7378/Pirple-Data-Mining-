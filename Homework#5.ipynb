{
 "cells": [
  {
   "cell_type": "markdown",
   "metadata": {},
   "source": [
    "Fitting linear regression model by calculating coefficients via Normal equations.Normal Equation is an analytical approach to Linear Regression with a Least Square Cost Function. We can directly find out the value of θ without using Gradient Descent."
   ]
  },
  {
   "cell_type": "code",
   "execution_count": 125,
   "metadata": {},
   "outputs": [],
   "source": [
    "import pandas as pd\n",
    "import seaborn as sns\n",
    "import matplotlib.pyplot as plt\n",
    "df=pd.read_csv('nba_data.csv')"
   ]
  },
  {
   "cell_type": "code",
   "execution_count": 126,
   "metadata": {},
   "outputs": [
    {
     "data": {
      "text/html": [
       "<div>\n",
       "<style scoped>\n",
       "    .dataframe tbody tr th:only-of-type {\n",
       "        vertical-align: middle;\n",
       "    }\n",
       "\n",
       "    .dataframe tbody tr th {\n",
       "        vertical-align: top;\n",
       "    }\n",
       "\n",
       "    .dataframe thead th {\n",
       "        text-align: right;\n",
       "    }\n",
       "</style>\n",
       "<table border=\"1\" class=\"dataframe\">\n",
       "  <thead>\n",
       "    <tr style=\"text-align: right;\">\n",
       "      <th></th>\n",
       "      <th>gmDate</th>\n",
       "      <th>gmTime</th>\n",
       "      <th>seasTyp</th>\n",
       "      <th>playLNm</th>\n",
       "      <th>playFNm</th>\n",
       "      <th>teamAbbr</th>\n",
       "      <th>teamConf</th>\n",
       "      <th>teamDiv</th>\n",
       "      <th>teamLoc</th>\n",
       "      <th>teamRslt</th>\n",
       "      <th>...</th>\n",
       "      <th>playFT%</th>\n",
       "      <th>playORB</th>\n",
       "      <th>playDRB</th>\n",
       "      <th>playTRB</th>\n",
       "      <th>opptAbbr</th>\n",
       "      <th>opptConf</th>\n",
       "      <th>opptDiv</th>\n",
       "      <th>opptLoc</th>\n",
       "      <th>opptRslt</th>\n",
       "      <th>opptDayOff</th>\n",
       "    </tr>\n",
       "  </thead>\n",
       "  <tbody>\n",
       "    <tr>\n",
       "      <th>0</th>\n",
       "      <td>2012-10-30</td>\n",
       "      <td>19:00</td>\n",
       "      <td>Regular</td>\n",
       "      <td>Price</td>\n",
       "      <td>A.J.</td>\n",
       "      <td>WAS</td>\n",
       "      <td>East</td>\n",
       "      <td>Southeast</td>\n",
       "      <td>Away</td>\n",
       "      <td>Loss</td>\n",
       "      <td>...</td>\n",
       "      <td>1.0</td>\n",
       "      <td>1</td>\n",
       "      <td>1</td>\n",
       "      <td>2</td>\n",
       "      <td>CLE</td>\n",
       "      <td>East</td>\n",
       "      <td>Central</td>\n",
       "      <td>Home</td>\n",
       "      <td>Win</td>\n",
       "      <td>0</td>\n",
       "    </tr>\n",
       "    <tr>\n",
       "      <th>1</th>\n",
       "      <td>2012-10-30</td>\n",
       "      <td>19:00</td>\n",
       "      <td>Regular</td>\n",
       "      <td>Ariza</td>\n",
       "      <td>Trevor</td>\n",
       "      <td>WAS</td>\n",
       "      <td>East</td>\n",
       "      <td>Southeast</td>\n",
       "      <td>Away</td>\n",
       "      <td>Loss</td>\n",
       "      <td>...</td>\n",
       "      <td>0.5</td>\n",
       "      <td>1</td>\n",
       "      <td>2</td>\n",
       "      <td>3</td>\n",
       "      <td>CLE</td>\n",
       "      <td>East</td>\n",
       "      <td>Central</td>\n",
       "      <td>Home</td>\n",
       "      <td>Win</td>\n",
       "      <td>0</td>\n",
       "    </tr>\n",
       "    <tr>\n",
       "      <th>2</th>\n",
       "      <td>2012-10-30</td>\n",
       "      <td>19:00</td>\n",
       "      <td>Regular</td>\n",
       "      <td>Okafor</td>\n",
       "      <td>Emeka</td>\n",
       "      <td>WAS</td>\n",
       "      <td>East</td>\n",
       "      <td>Southeast</td>\n",
       "      <td>Away</td>\n",
       "      <td>Loss</td>\n",
       "      <td>...</td>\n",
       "      <td>0.5</td>\n",
       "      <td>5</td>\n",
       "      <td>2</td>\n",
       "      <td>7</td>\n",
       "      <td>CLE</td>\n",
       "      <td>East</td>\n",
       "      <td>Central</td>\n",
       "      <td>Home</td>\n",
       "      <td>Win</td>\n",
       "      <td>0</td>\n",
       "    </tr>\n",
       "    <tr>\n",
       "      <th>3</th>\n",
       "      <td>2012-10-30</td>\n",
       "      <td>19:00</td>\n",
       "      <td>Regular</td>\n",
       "      <td>Beal</td>\n",
       "      <td>Bradley</td>\n",
       "      <td>WAS</td>\n",
       "      <td>East</td>\n",
       "      <td>Southeast</td>\n",
       "      <td>Away</td>\n",
       "      <td>Loss</td>\n",
       "      <td>...</td>\n",
       "      <td>1.0</td>\n",
       "      <td>0</td>\n",
       "      <td>3</td>\n",
       "      <td>3</td>\n",
       "      <td>CLE</td>\n",
       "      <td>East</td>\n",
       "      <td>Central</td>\n",
       "      <td>Home</td>\n",
       "      <td>Win</td>\n",
       "      <td>0</td>\n",
       "    </tr>\n",
       "    <tr>\n",
       "      <th>4</th>\n",
       "      <td>2012-10-30</td>\n",
       "      <td>19:00</td>\n",
       "      <td>Regular</td>\n",
       "      <td>Booker</td>\n",
       "      <td>Trevor</td>\n",
       "      <td>WAS</td>\n",
       "      <td>East</td>\n",
       "      <td>Southeast</td>\n",
       "      <td>Away</td>\n",
       "      <td>Loss</td>\n",
       "      <td>...</td>\n",
       "      <td>0.0</td>\n",
       "      <td>1</td>\n",
       "      <td>0</td>\n",
       "      <td>1</td>\n",
       "      <td>CLE</td>\n",
       "      <td>East</td>\n",
       "      <td>Central</td>\n",
       "      <td>Home</td>\n",
       "      <td>Win</td>\n",
       "      <td>0</td>\n",
       "    </tr>\n",
       "  </tbody>\n",
       "</table>\n",
       "<p>5 rows × 51 columns</p>\n",
       "</div>"
      ],
      "text/plain": [
       "       gmDate gmTime  seasTyp playLNm  playFNm teamAbbr teamConf    teamDiv  \\\n",
       "0  2012-10-30  19:00  Regular   Price     A.J.      WAS     East  Southeast   \n",
       "1  2012-10-30  19:00  Regular   Ariza   Trevor      WAS     East  Southeast   \n",
       "2  2012-10-30  19:00  Regular  Okafor    Emeka      WAS     East  Southeast   \n",
       "3  2012-10-30  19:00  Regular    Beal  Bradley      WAS     East  Southeast   \n",
       "4  2012-10-30  19:00  Regular  Booker   Trevor      WAS     East  Southeast   \n",
       "\n",
       "  teamLoc teamRslt  ...  playFT% playORB playDRB playTRB opptAbbr opptConf  \\\n",
       "0    Away     Loss  ...      1.0       1       1       2      CLE     East   \n",
       "1    Away     Loss  ...      0.5       1       2       3      CLE     East   \n",
       "2    Away     Loss  ...      0.5       5       2       7      CLE     East   \n",
       "3    Away     Loss  ...      1.0       0       3       3      CLE     East   \n",
       "4    Away     Loss  ...      0.0       1       0       1      CLE     East   \n",
       "\n",
       "   opptDiv opptLoc opptRslt  opptDayOff  \n",
       "0  Central    Home      Win           0  \n",
       "1  Central    Home      Win           0  \n",
       "2  Central    Home      Win           0  \n",
       "3  Central    Home      Win           0  \n",
       "4  Central    Home      Win           0  \n",
       "\n",
       "[5 rows x 51 columns]"
      ]
     },
     "execution_count": 126,
     "metadata": {},
     "output_type": "execute_result"
    }
   ],
   "source": [
    "df.head()"
   ]
  },
  {
   "cell_type": "code",
   "execution_count": 138,
   "metadata": {},
   "outputs": [],
   "source": [
    "X=np.array(df['playHeight'])\n",
    "Z=np.ones((X.shape[0],2))\n",
    "Z[:,1]=X\n",
    "Z=np.matrix(Z)\n",
    "y=np.array(df['playWeight'])"
   ]
  },
  {
   "cell_type": "code",
   "execution_count": 139,
   "metadata": {},
   "outputs": [
    {
     "data": {
      "text/plain": [
       "(155713, 2)"
      ]
     },
     "execution_count": 139,
     "metadata": {},
     "output_type": "execute_result"
    }
   ],
   "source": [
    "Z.shape"
   ]
  },
  {
   "cell_type": "markdown",
   "metadata": {},
   "source": [
    "We want to fit a straight line between the Player Height and Player Weight by solving normal equations θ = (X.T*X)^−1 *XT *y"
   ]
  },
  {
   "cell_type": "code",
   "execution_count": 141,
   "metadata": {},
   "outputs": [],
   "source": [
    "P=np.dot(Z.transpose(),Z)"
   ]
  },
  {
   "cell_type": "code",
   "execution_count": 142,
   "metadata": {},
   "outputs": [],
   "source": [
    "Q = np.linalg.inv(P)"
   ]
  },
  {
   "cell_type": "code",
   "execution_count": 143,
   "metadata": {},
   "outputs": [],
   "source": [
    "R=np.dot(Q,Z.transpose())"
   ]
  },
  {
   "cell_type": "code",
   "execution_count": 144,
   "metadata": {},
   "outputs": [],
   "source": [
    "T=np.dot(R,y)"
   ]
  },
  {
   "cell_type": "code",
   "execution_count": 153,
   "metadata": {},
   "outputs": [
    {
     "data": {
      "text/plain": [
       "matrix([[-260.98038222,    6.06170167]])"
      ]
     },
     "execution_count": 153,
     "metadata": {},
     "output_type": "execute_result"
    }
   ],
   "source": [
    "T"
   ]
  },
  {
   "cell_type": "code",
   "execution_count": 157,
   "metadata": {},
   "outputs": [],
   "source": [
    "a=T[0,0]\n",
    "b=T[0,1]\n",
    "\n",
    "def linefn(g):\n",
    "    return float(a)+float(b)*g\n",
    "\n",
    "x=np.array([i for i in range(70,100)]).reshape(-1,1)\n",
    "u=np.array([linefn(i) for i in range(70,100)])"
   ]
  },
  {
   "cell_type": "code",
   "execution_count": 158,
   "metadata": {},
   "outputs": [
    {
     "data": {
      "image/png": "[encoded data removed]",
      "text/plain": [
       "<Figure size 432x288 with 1 Axes>"
      ]
     },
     "metadata": {
      "needs_background": "light"
     },
     "output_type": "display_data"
    }
   ],
   "source": [
    "sns.scatterplot(df.playHeight,df.playWeight)\n",
    "plt.xlabel('Player_Height')\n",
    "plt.ylabel('Player_Weight')\n",
    "plt.title('Scatter plot for correlation between Player height and Player Weight')\n",
    "plt.plot(x,u,color='red')\n",
    "plt.show()"
   ]
  }
 ],
 "metadata": {
  "kernelspec": {
   "display_name": "Python 3",
   "language": "python",
   "name": "python3"
  },
  "language_info": {
   "codemirror_mode": {
    "name": "ipython",
    "version": 3
   },
   "file_extension": ".py",
   "mimetype": "text/x-python",
   "name": "python",
   "nbconvert_exporter": "python",
   "pygments_lexer": "ipython3",
   "version": "3.7.4"
  }
 },
 "nbformat": 4,
 "nbformat_minor": 4
}
