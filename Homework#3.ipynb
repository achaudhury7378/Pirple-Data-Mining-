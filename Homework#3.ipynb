{
 "cells": [
  {
   "cell_type": "code",
   "execution_count": 1,
   "metadata": {},
   "outputs": [
    {
     "data": {
      "text/plain": [
       "'C:\\\\spark\\\\spark-3.0.0-bin-hadoop2.7'"
      ]
     },
     "execution_count": 1,
     "metadata": {},
     "output_type": "execute_result"
    }
   ],
   "source": [
    "import findspark\n",
    "findspark.init()\n",
    "findspark.find()"
   ]
  },
  {
   "cell_type": "code",
   "execution_count": 2,
   "metadata": {},
   "outputs": [],
   "source": [
    "import pyspark as ps\n",
    "\n",
    "spark = ps.sql.SparkSession.builder \\\n",
    "    .master('local[4]') \\\n",
    "    .appName('spark-lecture') \\\n",
    "    .getOrCreate()\n",
    "\n",
    "sc = spark.sparkContext"
   ]
  },
  {
   "cell_type": "code",
   "execution_count": 3,
   "metadata": {},
   "outputs": [],
   "source": [
    "def myFn(n):\n",
    "    a=0\n",
    "    if n<=0.16:\n",
    "        a=1\n",
    "        return a\n",
    "    elif n>0.16 and n<=0.33:\n",
    "        a=2\n",
    "        return a\n",
    "    elif n>0.33 and n<=0.5:\n",
    "        a=3\n",
    "        return a\n",
    "    elif n>0.5 and n<=0.66:\n",
    "        a=4\n",
    "        return a\n",
    "    elif n>0.66 and n<=0.83:\n",
    "        a=5\n",
    "        return a\n",
    "    elif n>0.83 and n<=1:\n",
    "        a=6\n",
    "        return a"
   ]
  },
  {
   "cell_type": "code",
   "execution_count": 23,
   "metadata": {},
   "outputs": [
    {
     "name": "stdout",
     "output_type": "stream",
     "text": [
      "    face_values\n",
      "0             5\n",
      "1             2\n",
      "2             1\n",
      "3             2\n",
      "4             6\n",
      "..          ...\n",
      "95            1\n",
      "96            5\n",
      "97            4\n",
      "98            3\n",
      "99            6\n",
      "\n",
      "[100 rows x 1 columns]\n"
     ]
    }
   ],
   "source": [
    "import random as r\n",
    "import pandas as pd\n",
    "n = 100\n",
    "r.seed(150)\n",
    "\n",
    "heads = (sc.parallelize(range(n))\n",
    "    .map(lambda _: r.random())\n",
    "    .map(myFn)\n",
    "    .collect())\n",
    "df=pd.DataFrame(heads,columns=['face_values'])\n",
    "print(df)"
   ]
  },
  {
   "cell_type": "code",
   "execution_count": 24,
   "metadata": {},
   "outputs": [
    {
     "data": {
      "text/plain": [
       "<matplotlib.axes._subplots.AxesSubplot at 0x1bcf7595d08>"
      ]
     },
     "execution_count": 24,
     "metadata": {},
     "output_type": "execute_result"
    },
    {
     "data": {
      "image/png": "[encoded data removed]",
      "text/plain": [
       "<Figure size 432x288 with 1 Axes>"
      ]
     },
     "metadata": {
      "needs_background": "light"
     },
     "output_type": "display_data"
    }
   ],
   "source": [
    "df.face_values.hist()"
   ]
  }
 ],
 "metadata": {
  "kernelspec": {
   "display_name": "Python 3",
   "language": "python",
   "name": "python3"
  },
  "language_info": {
   "codemirror_mode": {
    "name": "ipython",
    "version": 3
   },
   "file_extension": ".py",
   "mimetype": "text/x-python",
   "name": "python",
   "nbconvert_exporter": "python",
   "pygments_lexer": "ipython3",
   "version": "3.7.4"
  }
 },
 "nbformat": 4,
 "nbformat_minor": 4
}
