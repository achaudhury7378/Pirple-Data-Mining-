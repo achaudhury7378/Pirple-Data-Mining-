{
 "cells": [
  {
   "cell_type": "code",
   "execution_count": 1,
   "metadata": {},
   "outputs": [],
   "source": [
    "import pandas as pd\n",
    "df=pd.read_csv('survey_results_public.csv',low_memory=False)"
   ]
  },
  {
   "cell_type": "code",
   "execution_count": 2,
   "metadata": {},
   "outputs": [],
   "source": [
    "from sklearn import preprocessing\n",
    "enc = preprocessing.LabelEncoder()"
   ]
  },
  {
   "cell_type": "code",
   "execution_count": 3,
   "metadata": {},
   "outputs": [],
   "source": [
    "data=df[list(df.keys()[1:])]"
   ]
  },
  {
   "cell_type": "code",
   "execution_count": 4,
   "metadata": {
    "collapsed": true
   },
   "outputs": [
    {
     "name": "stderr",
     "output_type": "stream",
     "text": [
      "c:\\users\\abhishek\\appdata\\local\\programs\\python\\python37\\lib\\site-packages\\ipykernel_launcher.py:2: SettingWithCopyWarning: \n",
      "A value is trying to be set on a copy of a slice from a DataFrame.\n",
      "Try using .loc[row_indexer,col_indexer] = value instead\n",
      "\n",
      "See the caveats in the documentation: https://pandas.pydata.org/pandas-docs/stable/user_guide/indexing.html#returning-a-view-versus-a-copy\n",
      "  \n"
     ]
    }
   ],
   "source": [
    "for i in data.keys():\n",
    "    data[i]=data[i].fillna(data[i].value_counts().index[0])    "
   ]
  },
  {
   "cell_type": "code",
   "execution_count": 5,
   "metadata": {
    "collapsed": true
   },
   "outputs": [
    {
     "name": "stderr",
     "output_type": "stream",
     "text": [
      "c:\\users\\abhishek\\appdata\\local\\programs\\python\\python37\\lib\\site-packages\\ipykernel_launcher.py:3: SettingWithCopyWarning: \n",
      "A value is trying to be set on a copy of a slice from a DataFrame.\n",
      "Try using .loc[row_indexer,col_indexer] = value instead\n",
      "\n",
      "See the caveats in the documentation: https://pandas.pydata.org/pandas-docs/stable/user_guide/indexing.html#returning-a-view-versus-a-copy\n",
      "  This is separate from the ipykernel package so we can avoid doing imports until\n"
     ]
    }
   ],
   "source": [
    "for i in data.keys():\n",
    "    if data[i].dtypes=='object':\n",
    "        data[i]=enc.fit_transform(data[i])        "
   ]
  },
  {
   "cell_type": "code",
   "execution_count": 6,
   "metadata": {},
   "outputs": [],
   "source": [
    "cov_data=data.cov()"
   ]
  },
  {
   "cell_type": "code",
   "execution_count": null,
   "metadata": {},
   "outputs": [],
   "source": [
    "# 2. Import it into your notebook and perform an analysis to determine which factors correlate most closely with high marks in the \"Job Satisfaction\" column.\n",
    "\n",
    "# 3. Perform an additional analysis to determine which factors correlate most closely with high values in the \"Salary\" column."
   ]
  },
  {
   "cell_type": "code",
   "execution_count": 7,
   "metadata": {},
   "outputs": [],
   "source": [
    "JS_imp_fact=list(abs(cov_data['JobSatisfaction']).sort_values(ascending=False).index)"
   ]
  },
  {
   "cell_type": "code",
   "execution_count": 8,
   "metadata": {
    "collapsed": true
   },
   "outputs": [
    {
     "name": "stdout",
     "output_type": "stream",
     "text": [
      "['ConvertedSalary', 'LanguageDesireNextYear', 'DevType', 'DatabaseDesireNextYear', 'IDE', 'PlatformWorkedWith', 'PlatformDesireNextYear', 'LanguageWorkedWith', 'Salary', 'DatabaseWorkedWith', 'FrameworkDesireNextYear', 'FrameworkWorkedWith', 'CommunicationTools', 'Country', 'JobSatisfaction', 'CurrencySymbol', 'VersionControl', 'CareerSatisfaction', 'SelfTaughtTypes', 'RaceEthnicity', 'JobEmailPriorities3', 'EducationTypes', 'JobEmailPriorities1', 'JobEmailPriorities5', 'HopeFiveYears', 'JobEmailPriorities6', 'Methodology', 'HackathonReasons', 'StackOverflowRecommend', 'AssessBenefits6', 'AssessJob6', 'UpdateCV', 'JobEmailPriorities7', 'AssessBenefits7', 'YearsCodingProf', 'AssessBenefits2', 'AdsActions', 'Currency', 'AssessJob7', 'StackOverflowJobsRecommend', 'YearsCoding', 'JobContactPriorities1', 'AssessBenefits5', 'JobSearchStatus', 'SurveyEasy', 'JobContactPriorities3', 'AssessBenefits10', 'JobEmailPriorities4', 'AssessJob2', 'JobEmailPriorities2', 'FormalEducation', 'AdBlockerReasons', 'AgreeDisagree2', 'LastNewJob', 'AssessJob1', 'Age', 'JobContactPriorities5', 'AssessBenefits9', 'CompanySize', 'AssessBenefits3', 'JobContactPriorities2', 'ErgonomicDevices', 'Employment', 'SkipMeals', 'AgreeDisagree3', 'AdsPriorities6', 'AssessJob3', 'AdsAgreeDisagree3', 'UndergradMajor', 'AgreeDisagree1', 'HypotheticalTools4', 'AIInteresting', 'AdsAgreeDisagree2', 'AdsAgreeDisagree1', 'EthicsChoice', 'AIDangerous', 'SalaryType', 'EthicalImplications', 'HypotheticalTools5', 'HypotheticalTools3', 'StackOverflowParticipate', 'AssessJob10', 'WakeTime', 'NumberMonitors', 'OpenSource', 'SurveyTooLong', 'AssessJob4', 'StackOverflowConsiderMember', 'AssessJob5', 'HypotheticalTools2', 'StackOverflowVisit', 'AIResponsible', 'EducationParents', 'AdsPriorities1', 'EthicsReport', 'OperatingSystem', 'Dependents', 'AssessBenefits11', 'TimeFullyProductive', 'Exercise', 'Hobby', 'Student', 'SexualOrientation', 'Gender', 'AdsPriorities4', 'AssessBenefits8', 'AdsPriorities5', 'HoursOutside', 'AssessJob9', 'AdsPriorities7', 'AssessBenefits4', 'HoursComputer', 'StackOverflowDevStory', 'AssessJob8', 'HypotheticalTools1', 'AssessBenefits1', 'TimeAfterBootcamp', 'CheckInCode', 'AdBlocker', 'AdsPriorities2', 'StackOverflowJobs', 'MilitaryUS', 'EthicsResponsible', 'AdsPriorities3', 'JobContactPriorities4', 'AIFuture', 'StackOverflowHasAccount', 'AdBlockerDisable']\n"
     ]
    }
   ],
   "source": [
    "print(JS_imp_fact)"
   ]
  },
  {
   "cell_type": "code",
   "execution_count": 9,
   "metadata": {},
   "outputs": [],
   "source": [
    "Sal_imp_fact=list(abs(cov_data['Salary']).sort_values(ascending=False).index)"
   ]
  },
  {
   "cell_type": "code",
   "execution_count": 10,
   "metadata": {
    "collapsed": true
   },
   "outputs": [
    {
     "name": "stdout",
     "output_type": "stream",
     "text": [
      "['ConvertedSalary', 'LanguageDesireNextYear', 'Salary', 'LanguageWorkedWith', 'PlatformDesireNextYear', 'PlatformWorkedWith', 'DevType', 'IDE', 'FrameworkDesireNextYear', 'FrameworkWorkedWith', 'CommunicationTools', 'DatabaseWorkedWith', 'DatabaseDesireNextYear', 'EducationTypes', 'SelfTaughtTypes', 'CurrencySymbol', 'Methodology', 'Country', 'VersionControl', 'Currency', 'YearsCodingProf', 'AssessJob7', 'AssessBenefits2', 'HackathonReasons', 'AssessBenefits7', 'RaceEthnicity', 'AdsActions', 'AssessJob8', 'AssessBenefits9', 'AssessJob4', 'UpdateCV', 'AssessBenefits3', 'AssessBenefits4', 'StackOverflowJobsRecommend', 'AssessBenefits6', 'EducationParents', 'JobEmailPriorities1', 'AssessJob5', 'AssessJob9', 'JobEmailPriorities3', 'AssessJob3', 'ErgonomicDevices', 'AssessJob1', 'HopeFiveYears', 'AssessJob2', 'AssessBenefits5', 'AdsPriorities7', 'AssessJob10', 'SalaryType', 'AgreeDisagree2', 'EthicsReport', 'JobEmailPriorities5', 'HypotheticalTools4', 'JobEmailPriorities6', 'AdsPriorities1', 'AdsPriorities5', 'Exercise', 'HoursOutside', 'AdsAgreeDisagree3', 'AdsPriorities6', 'Employment', 'AdsPriorities3', 'AIResponsible', 'StackOverflowParticipate', 'AIDangerous', 'AgreeDisagree1', 'JobContactPriorities1', 'AssessJob6', 'AIInteresting', 'StackOverflowRecommend', 'AgreeDisagree3', 'JobEmailPriorities4', 'JobEmailPriorities7', 'HypotheticalTools1', 'HypotheticalTools3', 'AssessBenefits10', 'AssessBenefits8', 'LastNewJob', 'AssessBenefits11', 'YearsCoding', 'StackOverflowVisit', 'HypotheticalTools5', 'TimeFullyProductive', 'CompanySize', 'FormalEducation', 'SkipMeals', 'OperatingSystem', 'SurveyEasy', 'JobContactPriorities5', 'Gender', 'StackOverflowConsiderMember', 'StackOverflowDevStory', 'JobContactPriorities3', 'AdBlockerReasons', 'AdsAgreeDisagree1', 'WakeTime', 'EthicsResponsible', 'JobEmailPriorities2', 'SurveyTooLong', 'AssessBenefits1', 'Dependents', 'SexualOrientation', 'EthicsChoice', 'JobSearchStatus', 'Student', 'AdsPriorities4', 'JobContactPriorities4', 'AdsAgreeDisagree2', 'NumberMonitors', 'JobContactPriorities2', 'AdsPriorities2', 'CareerSatisfaction', 'TimeAfterBootcamp', 'AdBlockerDisable', 'JobSatisfaction', 'EthicalImplications', 'StackOverflowJobs', 'HoursComputer', 'CheckInCode', 'AdBlocker', 'UndergradMajor', 'AIFuture', 'Age', 'StackOverflowHasAccount', 'HypotheticalTools2', 'Hobby', 'MilitaryUS', 'OpenSource']\n"
     ]
    }
   ],
   "source": [
    "print(Sal_imp_fact)"
   ]
  },
  {
   "cell_type": "code",
   "execution_count": 15,
   "metadata": {
    "collapsed": true
   },
   "outputs": [
    {
     "data": {
      "text/plain": [
       "['DevType',\n",
       " 'PlatformWorkedWith',\n",
       " 'LanguageWorkedWith',\n",
       " 'Salary',\n",
       " 'DatabaseWorkedWith',\n",
       " 'FrameworkWorkedWith',\n",
       " 'JobSatisfaction',\n",
       " 'VersionControl',\n",
       " 'CareerSatisfaction',\n",
       " 'JobEmailPriorities3',\n",
       " 'JobEmailPriorities1',\n",
       " 'JobEmailPriorities5',\n",
       " 'HopeFiveYears',\n",
       " 'Methodology',\n",
       " 'HackathonReasons',\n",
       " 'StackOverflowRecommend',\n",
       " 'AssessBenefits6',\n",
       " 'AssessJob6',\n",
       " 'YearsCodingProf',\n",
       " 'AssessBenefits2',\n",
       " 'StackOverflowJobsRecommend',\n",
       " 'YearsCoding',\n",
       " 'JobContactPriorities1',\n",
       " 'JobSearchStatus',\n",
       " 'JobEmailPriorities4',\n",
       " 'AdBlockerReasons',\n",
       " 'AssessBenefits3',\n",
       " 'JobContactPriorities2',\n",
       " 'AssessJob3',\n",
       " 'UndergradMajor',\n",
       " 'HypotheticalTools4',\n",
       " 'AIDangerous',\n",
       " 'HypotheticalTools5',\n",
       " 'HypotheticalTools3',\n",
       " 'WakeTime',\n",
       " 'SurveyTooLong',\n",
       " 'AssessJob4',\n",
       " 'HypotheticalTools2',\n",
       " 'EducationParents',\n",
       " 'AdsPriorities1',\n",
       " 'OperatingSystem',\n",
       " 'TimeFullyProductive',\n",
       " 'Student',\n",
       " 'SexualOrientation',\n",
       " 'Gender',\n",
       " 'AdsPriorities4',\n",
       " 'AssessBenefits8',\n",
       " 'AssessJob9',\n",
       " 'AdsPriorities7',\n",
       " 'AssessBenefits4',\n",
       " 'HoursComputer',\n",
       " 'HypotheticalTools1',\n",
       " 'AssessBenefits1',\n",
       " 'TimeAfterBootcamp',\n",
       " 'AdsPriorities2',\n",
       " 'StackOverflowJobs',\n",
       " 'AdBlockerDisable',\n",
       " 'StackOverflowHasAccount',\n",
       " 'AIFuture',\n",
       " 'JobContactPriorities4',\n",
       " 'AdsPriorities3',\n",
       " 'EthicsResponsible',\n",
       " 'MilitaryUS',\n",
       " 'AdBlocker',\n",
       " 'CheckInCode',\n",
       " 'AssessJob8',\n",
       " 'StackOverflowDevStory',\n",
       " 'HoursOutside',\n",
       " 'AdsPriorities5',\n",
       " 'Hobby',\n",
       " 'Exercise',\n",
       " 'AssessBenefits11',\n",
       " 'Dependents',\n",
       " 'EthicsReport',\n",
       " 'AIResponsible',\n",
       " 'StackOverflowVisit',\n",
       " 'AssessJob5',\n",
       " 'StackOverflowConsiderMember',\n",
       " 'OpenSource',\n",
       " 'NumberMonitors',\n",
       " 'AssessJob10',\n",
       " 'StackOverflowParticipate',\n",
       " 'EthicalImplications',\n",
       " 'SalaryType',\n",
       " 'EthicsChoice',\n",
       " 'AdsAgreeDisagree1',\n",
       " 'AdsAgreeDisagree2',\n",
       " 'AIInteresting',\n",
       " 'AgreeDisagree1',\n",
       " 'AdsAgreeDisagree3',\n",
       " 'AdsPriorities6',\n",
       " 'AgreeDisagree3',\n",
       " 'SkipMeals',\n",
       " 'Employment',\n",
       " 'ErgonomicDevices',\n",
       " 'CompanySize',\n",
       " 'AssessBenefits9',\n",
       " 'JobContactPriorities5',\n",
       " 'Age',\n",
       " 'AssessJob1',\n",
       " 'LastNewJob',\n",
       " 'AgreeDisagree2',\n",
       " 'FormalEducation',\n",
       " 'JobEmailPriorities2',\n",
       " 'AssessJob2',\n",
       " 'AssessBenefits10',\n",
       " 'JobContactPriorities3',\n",
       " 'SurveyEasy',\n",
       " 'AssessBenefits5',\n",
       " 'AssessJob7',\n",
       " 'Currency',\n",
       " 'AdsActions',\n",
       " 'AssessBenefits7',\n",
       " 'JobEmailPriorities7',\n",
       " 'UpdateCV',\n",
       " 'JobEmailPriorities6',\n",
       " 'EducationTypes',\n",
       " 'RaceEthnicity',\n",
       " 'SelfTaughtTypes',\n",
       " 'CurrencySymbol',\n",
       " 'Country',\n",
       " 'CommunicationTools',\n",
       " 'FrameworkDesireNextYear',\n",
       " 'PlatformDesireNextYear',\n",
       " 'IDE',\n",
       " 'DatabaseDesireNextYear',\n",
       " 'LanguageDesireNextYear',\n",
       " 'ConvertedSalary']"
      ]
     },
     "execution_count": 15,
     "metadata": {},
     "output_type": "execute_result"
    }
   ],
   "source": [
    "list((cov_data['JobSatisfaction']).sort_values(ascending=False).index)"
   ]
  },
  {
   "cell_type": "code",
   "execution_count": 16,
   "metadata": {
    "collapsed": true
   },
   "outputs": [
    {
     "data": {
      "text/plain": [
       "['ConvertedSalary',\n",
       " 'Salary',\n",
       " 'LanguageWorkedWith',\n",
       " 'DevType',\n",
       " 'FrameworkWorkedWith',\n",
       " 'DatabaseWorkedWith',\n",
       " 'Country',\n",
       " 'VersionControl',\n",
       " 'YearsCodingProf',\n",
       " 'AssessBenefits2',\n",
       " 'AssessJob8',\n",
       " 'AssessJob4',\n",
       " 'AssessBenefits3',\n",
       " 'StackOverflowJobsRecommend',\n",
       " 'AssessBenefits6',\n",
       " 'EducationParents',\n",
       " 'JobEmailPriorities1',\n",
       " 'AssessJob5',\n",
       " 'JobEmailPriorities3',\n",
       " 'ErgonomicDevices',\n",
       " 'SalaryType',\n",
       " 'AgreeDisagree2',\n",
       " 'EthicsReport',\n",
       " 'JobEmailPriorities5',\n",
       " 'AdsPriorities1',\n",
       " 'HoursOutside',\n",
       " 'AdsAgreeDisagree3',\n",
       " 'AdsPriorities3',\n",
       " 'AIDangerous',\n",
       " 'AgreeDisagree1',\n",
       " 'JobContactPriorities1',\n",
       " 'AssessJob6',\n",
       " 'StackOverflowRecommend',\n",
       " 'AgreeDisagree3',\n",
       " 'JobEmailPriorities4',\n",
       " 'AssessBenefits8',\n",
       " 'AssessBenefits11',\n",
       " 'YearsCoding',\n",
       " 'StackOverflowVisit',\n",
       " 'SurveyEasy',\n",
       " 'AdsAgreeDisagree1',\n",
       " 'SurveyTooLong',\n",
       " 'AssessBenefits1',\n",
       " 'Dependents',\n",
       " 'AdsAgreeDisagree2',\n",
       " 'NumberMonitors',\n",
       " 'JobContactPriorities2',\n",
       " 'CareerSatisfaction',\n",
       " 'TimeAfterBootcamp',\n",
       " 'JobSatisfaction',\n",
       " 'HoursComputer',\n",
       " 'AIFuture',\n",
       " 'Hobby',\n",
       " 'MilitaryUS',\n",
       " 'OpenSource',\n",
       " 'HypotheticalTools2',\n",
       " 'StackOverflowHasAccount',\n",
       " 'Age',\n",
       " 'UndergradMajor',\n",
       " 'AdBlocker',\n",
       " 'CheckInCode',\n",
       " 'StackOverflowJobs',\n",
       " 'EthicalImplications',\n",
       " 'AdBlockerDisable',\n",
       " 'AdsPriorities2',\n",
       " 'JobContactPriorities4',\n",
       " 'AdsPriorities4',\n",
       " 'Student',\n",
       " 'JobSearchStatus',\n",
       " 'EthicsChoice',\n",
       " 'SexualOrientation',\n",
       " 'JobEmailPriorities2',\n",
       " 'EthicsResponsible',\n",
       " 'WakeTime',\n",
       " 'AdBlockerReasons',\n",
       " 'JobContactPriorities3',\n",
       " 'StackOverflowDevStory',\n",
       " 'StackOverflowConsiderMember',\n",
       " 'Gender',\n",
       " 'JobContactPriorities5',\n",
       " 'OperatingSystem',\n",
       " 'SkipMeals',\n",
       " 'FormalEducation',\n",
       " 'CompanySize',\n",
       " 'TimeFullyProductive',\n",
       " 'HypotheticalTools5',\n",
       " 'LastNewJob',\n",
       " 'AssessBenefits10',\n",
       " 'HypotheticalTools3',\n",
       " 'HypotheticalTools1',\n",
       " 'JobEmailPriorities7',\n",
       " 'AIInteresting',\n",
       " 'StackOverflowParticipate',\n",
       " 'AIResponsible',\n",
       " 'Employment',\n",
       " 'AdsPriorities6',\n",
       " 'Exercise',\n",
       " 'AdsPriorities5',\n",
       " 'JobEmailPriorities6',\n",
       " 'HypotheticalTools4',\n",
       " 'AssessJob10',\n",
       " 'AdsPriorities7',\n",
       " 'AssessBenefits5',\n",
       " 'AssessJob2',\n",
       " 'HopeFiveYears',\n",
       " 'AssessJob1',\n",
       " 'AssessJob3',\n",
       " 'AssessJob9',\n",
       " 'AssessBenefits4',\n",
       " 'UpdateCV',\n",
       " 'AssessBenefits9',\n",
       " 'AdsActions',\n",
       " 'RaceEthnicity',\n",
       " 'AssessBenefits7',\n",
       " 'HackathonReasons',\n",
       " 'AssessJob7',\n",
       " 'Currency',\n",
       " 'Methodology',\n",
       " 'CurrencySymbol',\n",
       " 'SelfTaughtTypes',\n",
       " 'EducationTypes',\n",
       " 'DatabaseDesireNextYear',\n",
       " 'CommunicationTools',\n",
       " 'FrameworkDesireNextYear',\n",
       " 'IDE',\n",
       " 'PlatformWorkedWith',\n",
       " 'PlatformDesireNextYear',\n",
       " 'LanguageDesireNextYear']"
      ]
     },
     "execution_count": 16,
     "metadata": {},
     "output_type": "execute_result"
    }
   ],
   "source": [
    "list((cov_data['Salary']).sort_values(ascending=False).index)"
   ]
  },
  {
   "cell_type": "markdown",
   "metadata": {},
   "source": [
    "These factors are the once which are highly correlated with Job Satisfaction.That is the above factors are highly responsible in affecting the Job Satisfaction.\n",
    "Factors affecting Job Satisfaction are given in order of importance:\n",
    "'LanguageDesireNextYear', 'DevType', 'DatabaseDesireNextYear', 'IDE', 'PlatformWorkedWith', 'PlatformDesireNextYear', 'LanguageWorkedWith', 'Salary'\n",
    "In the above 'DevType','PlatformWorkedWith','LanguageWorkedWith','Salary' are positively affecting the Job Satisfaction so people must weigh them higher whereas  'PlatformDesireNextYear','IDE','DatabaseDesireNextYear','LanguageDesireNextYear' affects the Job Satisfaction negatively i.e. increase in those values decrease level of Job Satisfaction hence must be avoided .\n",
    " \n",
    "\n",
    "These factors are the once which are highly correlated with Salary.That is the above factors are highly responsible in affecting the Salary.\n",
    "Factors affecting salary are given in order of importance : \n",
    "'LanguageDesireNextYear', 'Salary', 'LanguageWorkedWith', 'PlatformDesireNextYear', 'PlatformWorkedWith', 'DevType', 'IDE', 'FrameworkDesireNextYear', 'FrameworkWorkedWith', 'CommunicationTools', 'DatabaseWorkedWith'\n",
    "\n",
    "In the above 'LanguageWorkedWith','DevType','FrameworkWorkedWith','DatabaseWorkedWith',are positively affecting the Salary so people must weigh them higher whereas 'CommunicationTools','FrameworkDesireNextYear','IDE','PlatformWorkedWith', 'PlatformDesireNextYear', 'LanguageDesireNextYear' affects the Salary negatively i.e. increase in those values decrease level of Salary hence must be avoided .\n",
    "\n",
    "\n",
    "For overall hapiness they need to change \"LanguageDesireNextYear\" which affects both the salary and job satisfaction.\n",
    "\n",
    "For high salary \"LanguageDesireNextYear\",\"PlatformDesireNextYear\" and \"DevType\" should be considered.\n",
    "\n",
    "Person should not bother for the ‘Country’ ,‘Employment’ as they are the least correlated to both. So they should try to avoid concerns regarding ‘Country’ or ‘Employment’. \n",
    "\n",
    "The factors said above are in order of importance so that might help people to prioritize the those factors \n"
   ]
  }
 ],
 "metadata": {
  "kernelspec": {
   "display_name": "Python 3",
   "language": "python",
   "name": "python3"
  },
  "language_info": {
   "codemirror_mode": {
    "name": "ipython",
    "version": 3
   },
   "file_extension": ".py",
   "mimetype": "text/x-python",
   "name": "python",
   "nbconvert_exporter": "python",
   "pygments_lexer": "ipython3",
   "version": "3.7.5"
  }
 },
 "nbformat": 4,
 "nbformat_minor": 4
}
